{
 "cells": [
  {
   "cell_type": "code",
   "execution_count": 1,
   "id": "b57c4e7f",
   "metadata": {},
   "outputs": [],
   "source": [
    "import numpy as np"
   ]
  },
  {
   "cell_type": "code",
   "execution_count": 2,
   "id": "525ad383",
   "metadata": {},
   "outputs": [],
   "source": [
    "class LogisticRegression:\n",
    "    def __init__(self, lr = 0.001, n_iters = 100):\n",
    "        self.lr = lr\n",
    "        self.n_iter = n_inters\n",
    "        self.weights = None\n",
    "        self.bias = None\n",
    "        \n",
    "    def fit(self, X, y):  #keeping the sickit_learn library \n",
    "                          #in mind these arguments were passed\n",
    "        n_sample, n_features = X.shape\n",
    "        self.weights = np.zeros(n_features)\n",
    "        self.bias = 0\n",
    "        \n",
    "        #gradient descent iteratively updating weights and bias \n",
    "        \n",
    "        for _ in range(self.n_iters):\n",
    "            linear_model = np.dot(X, self.weights) + self.bias\n",
    "            y_predicted = self._sigmoid(linear_model)\n",
    "            \n",
    "            #derivative part \n",
    "            dw = (1/n_samples)*np.dot((X.T, y_predicted - y))\n",
    "            db = (1/n_samples)*np.sum( y_predicted - y)\n",
    "            \n",
    "            self.weights -= self.lr*dw\n",
    "            self.bias -= self.lr*db\n",
    "            \n",
    "    def predict(self, X): #test samples we want to predict\n",
    "        linear_model = np.dot(X, self.weights) + self.bias\n",
    "        y_predicted = self._sigmoid(linear_model)\n",
    "        y_predicted_cls = (1 if i > 0.5 else 0 for i in y_predicted)\n",
    "        return y_predicted_cls\n",
    "    \n",
    "    def _sigmoid(self, x):\n",
    "        return 1 / (1 + np.exp(-x))"
   ]
  },
  {
   "cell_type": "code",
   "execution_count": null,
   "id": "591243c4",
   "metadata": {},
   "outputs": [],
   "source": []
  }
 ],
 "metadata": {
  "kernelspec": {
   "display_name": "Python 3 (ipykernel)",
   "language": "python",
   "name": "python3"
  },
  "language_info": {
   "codemirror_mode": {
    "name": "ipython",
    "version": 3
   },
   "file_extension": ".py",
   "mimetype": "text/x-python",
   "name": "python",
   "nbconvert_exporter": "python",
   "pygments_lexer": "ipython3",
   "version": "3.8.8"
  }
 },
 "nbformat": 4,
 "nbformat_minor": 5
}
